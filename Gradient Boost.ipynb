{
 "cells": [
  {
   "cell_type": "code",
   "execution_count": 1,
   "id": "9c5fda08",
   "metadata": {},
   "outputs": [],
   "source": [
    "import pandas as pd\n",
    "from sklearn.model_selection import train_test_split\n",
    "from sklearn.svm import SVR\n",
    "from sklearn.metrics import mean_squared_error\n",
    "import matplotlib.pyplot as plt"
   ]
  },
  {
   "cell_type": "code",
   "execution_count": null,
   "id": "8ce2ae01",
   "metadata": {},
   "outputs": [],
   "source": [
    "# Read the Excel file\n",
    "data = pd.read_excel('') # put the filename with extension here if file kept in same location otherwise provide full address."
   ]
  },
  {
   "cell_type": "code",
   "execution_count": null,
   "id": "165a0927",
   "metadata": {},
   "outputs": [],
   "source": [
    "# Split data into features and target variable\n",
    "X = data[['','', ... ]].values # Put the column names here which are the features of the dataset.\n",
    "y = data[['','', ... ]].values # Put the column names here which are the target value of the dataset."
   ]
  },
  {
   "cell_type": "code",
   "execution_count": null,
   "id": "0bfc4a71",
   "metadata": {},
   "outputs": [],
   "source": [
    "# Split the data into training and testing sets\n",
    "X_train, X_test, y_train, y_test = train_test_split(X, y, test_size=0.3, random_state=42)\n",
    "# random state is kept same throughout the code so that same rows and used for training and testing.\n",
    "# test size can be changed, 0.3 means 30% is for testing and 70% for training."
   ]
  },
  {
   "cell_type": "code",
   "execution_count": null,
   "id": "77c511c5",
   "metadata": {},
   "outputs": [],
   "source": [
    "# Create and train the SVM model\n",
    "svm_model = SVR(kernel='rbf')\n",
    "svm_model.fit(X_train, y_train)"
   ]
  },
  {
   "cell_type": "code",
   "execution_count": null,
   "id": "0b399587",
   "metadata": {},
   "outputs": [],
   "source": [
    "# Make predictions on the test set\n",
    "y_pred = svm_model.predict(X_test)"
   ]
  },
  {
   "cell_type": "code",
   "execution_count": null,
   "id": "0578894e",
   "metadata": {},
   "outputs": [],
   "source": [
    "# Evaluate the model\n",
    "mse = mean_squared_error(y_test, y_pred)\n",
    "print(\"Mean Squared Error:\", mse)"
   ]
  },
  {
   "cell_type": "code",
   "execution_count": null,
   "id": "2e51013e",
   "metadata": {},
   "outputs": [],
   "source": [
    "# plot the data\n",
    "plt.plot(y_test, label='Actual')\n",
    "plt.plot(y_pred, label='Predicted')\n",
    "plt.legend()\n",
    "plt.xlabel('')\n",
    "plt.ylabel('')\n",
    "plt.title('')\n",
    "plt.savefig('', dpi = 600)\n",
    "plt.savefig('plot.pdf')\n",
    "plt.show()"
   ]
  }
 ],
 "metadata": {
  "kernelspec": {
   "display_name": "Python 3 (ipykernel)",
   "language": "python",
   "name": "python3"
  },
  "language_info": {
   "codemirror_mode": {
    "name": "ipython",
    "version": 3
   },
   "file_extension": ".py",
   "mimetype": "text/x-python",
   "name": "python",
   "nbconvert_exporter": "python",
   "pygments_lexer": "ipython3",
   "version": "3.11.3"
  }
 },
 "nbformat": 4,
 "nbformat_minor": 5
}
