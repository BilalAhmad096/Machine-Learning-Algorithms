{
 "cells": [
  {
   "cell_type": "code",
   "execution_count": 10,
   "id": "040c7b9c",
   "metadata": {},
   "outputs": [],
   "source": [
    "import numpy as np\n",
    "import pandas as pd\n",
    "from sklearn.model_selection import train_test_split\n",
    "from sklearn.preprocessing import StandardScaler\n",
    "from tensorflow.keras.models import Sequential\n",
    "from tensorflow.keras.layers import Dense\n",
    "import matplotlib.pyplot as plt"
   ]
  },
  {
   "cell_type": "code",
   "execution_count": 11,
   "id": "77e0328c",
   "metadata": {},
   "outputs": [],
   "source": [
    "# Read the Excel file\n",
    "data = pd.read_excel('') # put the filename with extension here if file kept in same location otherwise provide full address."
   ]
  },
  {
   "cell_type": "code",
   "execution_count": 12,
   "id": "69d09459",
   "metadata": {},
   "outputs": [],
   "source": [
    "# Split data into features and target variable\n",
    "X = data[['','', ... ]].values # Put the column names here which are the features of the dataset.\n",
    "y = data[['','', ... ]].values # Put the column names here which are the target value of the dataset."
   ]
  },
  {
   "cell_type": "code",
   "execution_count": 13,
   "id": "3fe23831",
   "metadata": {},
   "outputs": [],
   "source": [
    "# Split the data into training and testing sets\n",
    "X_train, X_test, y_train, y_test = train_test_split(X, y, test_size=0.3, random_state=42)\n",
    "# random state is kept same throughout the code so that same rows and used for training and testing.\n",
    "# test size can be changed, 0.3 means 30% is for testing and 70% for training."
   ]
  },
  {
   "cell_type": "code",
   "execution_count": 14,
   "id": "bacee36b",
   "metadata": {},
   "outputs": [],
   "source": [
    "# Build the ANN model\n",
    "model = Sequential()\n",
    "model.add(Dense(128, activation='relu', input_dim=X_train.shape[1]))\n",
    "model.add(Dense(64, activation='relu'))\n",
    "model.add(Dense(32, activation='relu'))\n",
    "model.add(Dense(y_train.shape[1]))  # Output layer with the same number of nodes as the number of target variables\n",
    "# number of layers are added as per the requirement.\n",
    "# 128, 64 and 32 are number of nodes in each layer. change it as per requirement."
   ]
  },
  {
   "cell_type": "code",
   "execution_count": 15,
   "id": "2fee3fd7",
   "metadata": {},
   "outputs": [],
   "source": [
    "# Compile the model\n",
    "model.compile(loss='mean_squared_error', optimizer='adam')"
   ]
  },
  {
   "cell_type": "code",
   "execution_count": null,
   "id": "a79d9333",
   "metadata": {},
   "outputs": [],
   "source": [
    "from datetime import datetime\n",
    "\n",
    "# record current timestamp\n",
    "start = datetime.now()\n",
    "\n",
    "# Train the model\n",
    "model.fit(X_train, y_train, epochs=100, batch_size=32, verbose=1)\n",
    "\n",
    "\n",
    "# record loop end timestamp\n",
    "end = datetime.now()\n",
    "\n",
    "# find difference loop start and end time and display\n",
    "td = (end - start).total_seconds() * 10**3\n",
    "print(f\"The time of execution of above program is : {td:.03f}ms\")\n"
   ]
  },
  {
   "cell_type": "code",
   "execution_count": null,
   "id": "def33422",
   "metadata": {},
   "outputs": [],
   "source": [
    "# Evaluate the model on the test set\n",
    "mse = model.evaluate(X_test, y_test)\n",
    "print(f'Mean Squared Error (MSE): {mse}')"
   ]
  },
  {
   "cell_type": "code",
   "execution_count": null,
   "id": "a2be0c41",
   "metadata": {},
   "outputs": [],
   "source": [
    "from datetime import datetime\n",
    "\n",
    "# record current timestamp\n",
    "start = datetime.now()\n",
    "# Make predictions\n",
    "predictions = model.predict(X_test)\n",
    "\n",
    "# record loop end timestamp\n",
    "end = datetime.now()\n",
    "\n",
    "# find difference loop start and end time and display\n",
    "td = (end - start).total_seconds() * 10**3\n",
    "print(f\"The time of execution of above program is : {td:.03f}ms\")"
   ]
  },
  {
   "cell_type": "code",
   "execution_count": null,
   "id": "ad0ff57a",
   "metadata": {},
   "outputs": [],
   "source": [
    "# plot the data\n",
    "plt.plot(y_test, label='Actual')\n",
    "plt.plot(predictions, label='Predicted')\n",
    "plt.legend()\n",
    "plt.xlabel('')\n",
    "plt.ylabel('')\n",
    "plt.title('')\n",
    "plt.savefig('', dpi = 600)\n",
    "plt.savefig('plot.pdf')\n",
    "plt.show()"
   ]
  }
 ],
 "metadata": {
  "kernelspec": {
   "display_name": "Python 3 (ipykernel)",
   "language": "python",
   "name": "python3"
  },
  "language_info": {
   "codemirror_mode": {
    "name": "ipython",
    "version": 3
   },
   "file_extension": ".py",
   "mimetype": "text/x-python",
   "name": "python",
   "nbconvert_exporter": "python",
   "pygments_lexer": "ipython3",
   "version": "3.11.3"
  }
 },
 "nbformat": 4,
 "nbformat_minor": 5
}
