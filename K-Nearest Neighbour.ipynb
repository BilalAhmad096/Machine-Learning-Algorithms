{
 "cells": [
  {
   "cell_type": "code",
   "execution_count": 1,
   "id": "1991728f",
   "metadata": {},
   "outputs": [],
   "source": [
    "import pandas as pd\n",
    "import numpy as np\n",
    "from sklearn.neighbors import KNeighborsRegressor\n",
    "from sklearn.model_selection import train_test_split\n",
    "import matplotlib.pyplot as plt"
   ]
  },
  {
   "cell_type": "code",
   "execution_count": 2,
   "id": "63704ed0",
   "metadata": {},
   "outputs": [],
   "source": [
    "# Read the Excel file\n",
    "data = pd.read_excel('') # put the filename with extension here if file kept in same location otherwise provide full address."
   ]
  },
  {
   "cell_type": "code",
   "execution_count": 3,
   "id": "cbc739c9",
   "metadata": {},
   "outputs": [],
   "source": [
    "# Split data into features and target variable\n",
    "X = data[['','', ... ]].values # Put the column names here which are the features of the dataset.\n",
    "y = data[['','', ... ]].values # Put the column names here which are the target value of the dataset."
   ]
  },
  {
   "cell_type": "code",
   "execution_count": null,
   "id": "9a35e13e",
   "metadata": {},
   "outputs": [],
   "source": [
    "# Split the data into training and testing sets\n",
    "X_train, X_test, y_train, y_test = train_test_split(X, y, test_size=0.3, random_state=42)\n",
    "# random state is kept same throughout the code so that same rows and used for training and testing.\n",
    "# test size can be changed, 0.3 means 30% is for testing and 70% for training."
   ]
  },
  {
   "cell_type": "code",
   "execution_count": 4,
   "id": "e53453ad",
   "metadata": {},
   "outputs": [],
   "source": [
    "# Create K-Nearest Neighbor Regressor object\n",
    "knn = KNeighborsRegressor(n_neighbors=4)\n",
    "# change n_neighbors as per the requirement"
   ]
  },
  {
   "cell_type": "code",
   "execution_count": null,
   "id": "48583a4d",
   "metadata": {},
   "outputs": [],
   "source": [
    "# Train the model using the training sets\n",
    "knn.fit(X_train, y_train)"
   ]
  },
  {
   "cell_type": "code",
   "execution_count": 6,
   "id": "2c5dfeb4",
   "metadata": {},
   "outputs": [],
   "source": [
    "# Make predictions using the testing set\n",
    "y_pred = knn.predict(X_test)"
   ]
  },
  {
   "cell_type": "code",
   "execution_count": 7,
   "id": "aae5a2c6",
   "metadata": {},
   "outputs": [],
   "source": [
    "# Calculate the mean squared error\n",
    "mse = np.mean((y_pred - y_test)**2)\n",
    "mse"
   ]
  },
  {
   "cell_type": "code",
   "execution_count": null,
   "id": "0a9b7a5d",
   "metadata": {},
   "outputs": [],
   "source": [
    "# plot the data\n",
    "plt.plot(y_test, label='Actual')\n",
    "plt.plot(y_pred, label='Predicted')\n",
    "plt.legend()\n",
    "plt.xlabel('')\n",
    "plt.ylabel('')\n",
    "plt.title('')\n",
    "plt.savefig('', dpi = 600)\n",
    "plt.savefig('plot.pdf')\n",
    "plt.show()"
   ]
  }
 ],
 "metadata": {
  "kernelspec": {
   "display_name": "Python 3 (ipykernel)",
   "language": "python",
   "name": "python3"
  },
  "language_info": {
   "codemirror_mode": {
    "name": "ipython",
    "version": 3
   },
   "file_extension": ".py",
   "mimetype": "text/x-python",
   "name": "python",
   "nbconvert_exporter": "python",
   "pygments_lexer": "ipython3",
   "version": "3.11.3"
  }
 },
 "nbformat": 4,
 "nbformat_minor": 5
}
